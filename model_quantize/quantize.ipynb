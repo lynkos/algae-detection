{
 "cells": [
  {
   "cell_type": "code",
   "execution_count": 1,
   "metadata": {},
   "outputs": [
    {
     "ename": "ImportError",
     "evalue": "DLL load failed while importing calibrator: The specified module could not be found.",
     "output_type": "error",
     "traceback": [
      "\u001b[1;31m---------------------------------------------------------------------------\u001b[0m",
      "\u001b[1;31mImportError\u001b[0m                               Traceback (most recent call last)",
      "\u001b[1;32mc:\\Users\\rdgbr\\Documents\\University-Stuff\\Fall-2023\\Capstone-2\\ESP-DL\\model_quantize\\quantize.ipynb Cell 1\u001b[0m line \u001b[0;36m2\n\u001b[0;32m      <a href='vscode-notebook-cell:/c%3A/Users/rdgbr/Documents/University-Stuff/Fall-2023/Capstone-2/ESP-DL/model_quantize/quantize.ipynb#W0sZmlsZQ%3D%3D?line=0'>1</a>\u001b[0m \u001b[39mfrom\u001b[39;00m \u001b[39moptimizer\u001b[39;00m \u001b[39mimport\u001b[39;00m \u001b[39m*\u001b[39m\n\u001b[1;32m----> <a href='vscode-notebook-cell:/c%3A/Users/rdgbr/Documents/University-Stuff/Fall-2023/Capstone-2/ESP-DL/model_quantize/quantize.ipynb#W0sZmlsZQ%3D%3D?line=1'>2</a>\u001b[0m \u001b[39mfrom\u001b[39;00m \u001b[39mcalibrator\u001b[39;00m \u001b[39mimport\u001b[39;00m \u001b[39m*\u001b[39m\n\u001b[0;32m      <a href='vscode-notebook-cell:/c%3A/Users/rdgbr/Documents/University-Stuff/Fall-2023/Capstone-2/ESP-DL/model_quantize/quantize.ipynb#W0sZmlsZQ%3D%3D?line=2'>3</a>\u001b[0m \u001b[39mfrom\u001b[39;00m \u001b[39mevaluator\u001b[39;00m \u001b[39mimport\u001b[39;00m \u001b[39m*\u001b[39m\n",
      "\u001b[1;31mImportError\u001b[0m: DLL load failed while importing calibrator: The specified module could not be found."
     ]
    }
   ],
   "source": [
    "from optimizer import *\n",
    "from calibrator import *\n",
    "from evaluator import *"
   ]
  },
  {
   "cell_type": "code",
   "execution_count": null,
   "metadata": {},
   "outputs": [],
   "source": [
    "onnx_model = onnx.load(\"best.onnx\")\n",
    "optimized_model_path = optimize_fp_model(\"best_opt.onnx\")"
   ]
  },
  {
   "cell_type": "code",
   "execution_count": null,
   "metadata": {},
   "outputs": [],
   "source": [
    "with open('X_cal.pkl', 'rb') as f:\n",
    "    (test_images) = pickle.load(f)\n",
    "with open('y_cal.pkl', 'rb') as f:\n",
    "    (test_labels) = pickle.load(f)\n",
    "\n",
    "\n",
    "calib_dataset = test_images[0:1800:20]\n",
    "pickle_file_path = 'handrecognition_calib.pickle'"
   ]
  },
  {
   "cell_type": "code",
   "execution_count": null,
   "metadata": {},
   "outputs": [],
   "source": [
    "model_proto = onnx.load(optimized_model_path)\n",
    "print('Generating the quantization table:')\n",
    "\n",
    "calib = Calibrator('int16', 'per-tensor', 'minmax')\n",
    "# calib = Calibrator('int8', 'per-channel', 'minmax')\n",
    "\n",
    "calib.set_providers(['CPUExecutionProvider'])\n",
    "\n",
    "# Obtain the quantization parameter\n",
    "calib.generate_quantization_table(model_proto,calib_dataset, pickle_file_path)\n",
    "# Generate the coefficient files for esp32s3\n",
    "calib.export_coefficient_to_cpp(model_proto, pickle_file_path, 'esp32s3', '.', 'handrecognition_coefficient', True)\n"
   ]
  }
 ],
 "metadata": {
  "kernelspec": {
   "display_name": "esp-model",
   "language": "python",
   "name": "python3"
  },
  "language_info": {
   "codemirror_mode": {
    "name": "ipython",
    "version": 3
   },
   "file_extension": ".py",
   "mimetype": "text/x-python",
   "name": "python",
   "nbconvert_exporter": "python",
   "pygments_lexer": "ipython3",
   "version": "3.11.5"
  }
 },
 "nbformat": 4,
 "nbformat_minor": 2
}
