{
  "cells": [
    {
      "cell_type": "code",
      "execution_count": 1,
      "metadata": {
        "id": "xrZQvroY2B5Z"
      },
      "outputs": [],
      "source": [
        "from keras.models import Sequential\n",
        "from keras.layers import Dense, Flatten, Dropout, Conv2D, MaxPooling2D\n",
        "from pickle import load"
      ]
    },
    {
      "cell_type": "code",
      "execution_count": 2,
      "metadata": {
        "id": "85MVQbzk5vZ3"
      },
      "outputs": [],
      "source": [
        "with open('X_test.pkl', 'rb') as X_test_file:\n",
        "  X_test = load(X_test_file)\n",
        "\n",
        "with open('y_test.pkl', 'rb') as y_test_file:\n",
        "  y_test = load(y_test_file)\n",
        "\n",
        "with open('X_train.pkl', 'rb') as X_train_file:\n",
        "  X_train = load(X_train_file)\n",
        "\n",
        "with open('y_train.pkl', 'rb') as y_train_file:\n",
        "  y_train = load(y_train_file)"
      ]
    },
    {
      "cell_type": "code",
      "execution_count": 3,
      "metadata": {
        "id": "hVsGdH-v7Adt"
      },
      "outputs": [],
      "source": [
        "model = Sequential()\n",
        "\n",
        "model.add(Conv2D(32,\n",
        "                 (5, 5),\n",
        "                 activation='relu',\n",
        "                 input_shape=(96, 96, 1))) \n",
        "model.add(MaxPooling2D((2, 2)))\n",
        "model.add(Dropout(0.2))\n",
        "model.add(Conv2D(64, (3, 3), activation='relu')) \n",
        "model.add(MaxPooling2D((2, 2)))\n",
        "model.add(Dropout(0.2))\n",
        "model.add(Conv2D(64, (3, 3), activation='relu'))\n",
        "model.add(MaxPooling2D((2, 2)))\n",
        "model.add(Flatten())\n",
        "model.add(Dense(128, activation='relu'))\n",
        "model.add(Dense(6, activation='softmax'))"
      ]
    },
    {
      "cell_type": "code",
      "execution_count": 4,
      "metadata": {
        "id": "Yc73uy1n7Imi"
      },
      "outputs": [],
      "source": [
        "# Configures the model for training\n",
        "model.compile(optimizer='adam', # Optimization routine, which tells the computer how to adjust the parameter values to minimize the loss function.\n",
        "              loss='sparse_categorical_crossentropy', # Loss function, which tells us how bad our predictions are.\n",
        "              metrics=['accuracy']) # List of metrics to be evaluated by the model during training and testing."
      ]
    },
    {
      "cell_type": "code",
      "execution_count": 5,
      "metadata": {
        "colab": {
          "base_uri": "https://localhost:8080/"
        },
        "id": "b7Ws0V4O7KuI",
        "outputId": "dcd6bc19-b15e-4063-cdd1-b93b6f73e486"
      },
      "outputs": [
        {
          "name": "stdout",
          "output_type": "stream",
          "text": [
            "Model: \"sequential\"\n",
            "_________________________________________________________________\n",
            " Layer (type)                Output Shape              Param #   \n",
            "=================================================================\n",
            " conv2d (Conv2D)             (None, 92, 92, 32)        832       \n",
            "                                                                 \n",
            " max_pooling2d (MaxPooling2  (None, 46, 46, 32)        0         \n",
            " D)                                                              \n",
            "                                                                 \n",
            " dropout (Dropout)           (None, 46, 46, 32)        0         \n",
            "                                                                 \n",
            " conv2d_1 (Conv2D)           (None, 44, 44, 64)        18496     \n",
            "                                                                 \n",
            " max_pooling2d_1 (MaxPoolin  (None, 22, 22, 64)        0         \n",
            " g2D)                                                            \n",
            "                                                                 \n",
            " dropout_1 (Dropout)         (None, 22, 22, 64)        0         \n",
            "                                                                 \n",
            " conv2d_2 (Conv2D)           (None, 20, 20, 64)        36928     \n",
            "                                                                 \n",
            " max_pooling2d_2 (MaxPoolin  (None, 10, 10, 64)        0         \n",
            " g2D)                                                            \n",
            "                                                                 \n",
            " flatten (Flatten)           (None, 6400)              0         \n",
            "                                                                 \n",
            " dense (Dense)               (None, 128)               819328    \n",
            "                                                                 \n",
            " dense_1 (Dense)             (None, 6)                 774       \n",
            "                                                                 \n",
            "=================================================================\n",
            "Total params: 876358 (3.34 MB)\n",
            "Trainable params: 876358 (3.34 MB)\n",
            "Non-trainable params: 0 (0.00 Byte)\n",
            "_________________________________________________________________\n"
          ]
        }
      ],
      "source": [
        "model.summary()"
      ]
    },
    {
      "cell_type": "code",
      "execution_count": 6,
      "metadata": {
        "colab": {
          "base_uri": "https://localhost:8080/"
        },
        "id": "lGr6Mcni7NZD",
        "outputId": "3e432712-8af7-43f3-c860-f8f00019f42f"
      },
      "outputs": [],
      "source": [
        "# Trains the model for a given number of epochs (iterations on a dataset) and validates it.\n",
        "history=model.fit(X_train, y_train, epochs=1, batch_size=64, verbose=\"1\", validation_data=(X_test, y_test))"
      ]
    },
    {
      "cell_type": "code",
      "execution_count": 7,
      "metadata": {
        "id": "lwDljIhY7ORG"
      },
      "outputs": [],
      "source": [
        "model.save('handrecognition_model.keras')"
      ]
    },
    {
      "cell_type": "code",
      "execution_count": 8,
      "metadata": {
        "colab": {
          "base_uri": "https://localhost:8080/"
        },
        "id": "iijdpxmm91F7",
        "outputId": "b9e98aed-6ffb-4a8f-e1b6-9d17b4531246"
      },
      "outputs": [
        {
          "name": "stdout",
          "output_type": "stream",
          "text": [
            "INFO:tensorflow:Assets written to: ../model_quantize/tmp_model/assets\n"
          ]
        },
        {
          "name": "stderr",
          "output_type": "stream",
          "text": [
            "INFO:tensorflow:Assets written to: ../model_quantize/tmp_model/assets\n"
          ]
        }
      ],
      "source": [
        "from tensorflow import saved_model\n",
        "from keras.models import load_model\n",
        "\n",
        "saved_model.save(load_model(\"handrecognition_model.keras\"), \"../model_quantize/tmp_model\")\n",
        "#\"/content/handrecognition_model.h5\"), \"tmp_model\")"
      ]
    },
    {
      "cell_type": "code",
      "execution_count": 9,
      "metadata": {
        "colab": {
          "base_uri": "https://localhost:8080/"
        },
        "id": "iU6CRy0E7WZU",
        "outputId": "6be66f91-3324-4fc9-dc62-e9be2857a4aa"
      },
      "outputs": [
        {
          "name": "stdout",
          "output_type": "stream",
          "text": [
            "<frozen runpy>:128: RuntimeWarning: 'tf2onnx.convert' found in sys.modules after import of package 'tf2onnx', but prior to execution of 'tf2onnx.convert'; this may result in unpredictable behaviour\n",
            "2024-01-23 17:52:48,806 - WARNING - '--tag' not specified for saved_model. Using --tag serve\n",
            "2024-01-23 17:52:48,893 - INFO - Signatures found in model: [serving_default].\n",
            "2024-01-23 17:52:48,893 - WARNING - '--signature_def' not specified, using first signature: serving_default\n",
            "2024-01-23 17:52:48,893 - INFO - Output names: ['dense_1']\n",
            "2024-01-23 17:52:48,960 - INFO - Using tensorflow=2.15.0, onnx=1.15.0, tf2onnx=1.16.1/d0e432\n",
            "2024-01-23 17:52:48,960 - INFO - Using opset <onnx, 15>\n",
            "2024-01-23 17:52:48,968 - INFO - Computed 0 values for constant folding\n",
            "2024-01-23 17:52:48,979 - INFO - Optimizing ONNX model\n",
            "2024-01-23 17:52:49,026 - INFO - After optimization: Cast -1 (1->0), Const +1 (11->12), Identity -2 (2->0), Reshape +1 (1->2), Transpose -11 (12->1)\n",
            "2024-01-23 17:52:49,030 - INFO - \n",
            "2024-01-23 17:52:49,030 - INFO - Successfully converted TensorFlow model ../model_quantize/tmp_model to ONNX\n",
            "2024-01-23 17:52:49,030 - INFO - Model inputs: ['conv2d_input']\n",
            "2024-01-23 17:52:49,030 - INFO - Model outputs: ['dense_1']\n",
            "2024-01-23 17:52:49,030 - INFO - ONNX model is saved at handrecognition_model.onnx\n"
          ]
        }
      ],
      "source": [
        "import tf2onnx\n",
        "\n",
        "!python -m tf2onnx.convert --saved-model ../model_quantize/tmp_model --output \"handrecognition_model.onnx\""
      ]
    },
    {
      "cell_type": "code",
      "execution_count": 10,
      "metadata": {
        "colab": {
          "base_uri": "https://localhost:8080/"
        },
        "id": "31NhKnQd7V21",
        "outputId": "be697116-e7c8-4e28-adfb-68cce82c2d37"
      },
      "outputs": [
        {
          "name": "stdout",
          "output_type": "stream",
          "text": [
            "updating: ../model_quantize/tmp_model/ (stored 0%)\n",
            "updating: ../model_quantize/tmp_model/fingerprint.pb (stored 0%)\n",
            "updating: ../model_quantize/tmp_model/variables/ (stored 0%)\n",
            "updating: ../model_quantize/tmp_model/variables/variables.data-00000-of-00001 (deflated 8%)\n",
            "updating: ../model_quantize/tmp_model/variables/variables.index (deflated 54%)\n",
            "updating: ../model_quantize/tmp_model/saved_model.pb (deflated 88%)\n",
            "  adding: ../model_quantize/tmp_model/assets/ (stored 0%)\n"
          ]
        }
      ],
      "source": [
        "!zip -r tmp_model.zip ../model_quantize/tmp_model"
      ]
    }
  ],
  "metadata": {
    "colab": {
      "collapsed_sections": [],
      "provenance": []
    },
    "kernelspec": {
      "display_name": "Python 3",
      "name": "python3"
    },
    "language_info": {
      "codemirror_mode": {
        "name": "ipython",
        "version": 3
      },
      "file_extension": ".py",
      "mimetype": "text/x-python",
      "name": "python",
      "nbconvert_exporter": "python",
      "pygments_lexer": "ipython3",
      "version": "3.11.7"
    }
  },
  "nbformat": 4,
  "nbformat_minor": 0
}
